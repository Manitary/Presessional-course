{
 "cells": [
  {
   "cell_type": "markdown",
   "metadata": {},
   "source": [
    "(1) Write a function to calculate the factorial of a number (a non-negative integer)."
   ]
  },
  {
   "cell_type": "markdown",
   "metadata": {},
   "source": [
    "(2) Write a function that takes a list and returns a new list with unique elements of the first list.  \n",
    "e.g. [1,2,3,3,3,3,4,5] -> [1,2,3,4,5]"
   ]
  },
  {
   "cell_type": "markdown",
   "metadata": {},
   "source": [
    "(3) Write a function that takes a list and a number and returns the elements of the list divisible by said number.  \n",
    "e.g. [1,2,3,4,5,6,7,8,9], 4 -> [4,8]"
   ]
  },
  {
   "cell_type": "markdown",
   "metadata": {},
   "source": [
    "(4) Write a function that checks whether a string is palindrome or not.  \n",
    "e.g. \"deleveled\" -> True"
   ]
  },
  {
   "cell_type": "markdown",
   "metadata": {},
   "source": [
    "(5) Write a function that given a list returns the average value of the list_name.  \n",
    "e.g. [5,9,16] -> 10"
   ]
  },
  {
   "cell_type": "markdown",
   "metadata": {},
   "source": [
    "(6) Write a function that checks whether a number (a positive integer) is prime or nor."
   ]
  },
  {
   "cell_type": "markdown",
   "metadata": {},
   "source": [
    "(7) Write a function that returns a list of primes up to a given number."
   ]
  },
  {
   "cell_type": "markdown",
   "metadata": {},
   "source": [
    "(8) Write a function that given integer inputs m,n, returns an upper triangular m x n matrix A where a_{ij}=i+j (for i<=j)."
   ]
  }
 ],
 "metadata": {
  "kernelspec": {
   "display_name": "Python 3",
   "language": "python",
   "name": "python3"
  },
  "language_info": {
   "codemirror_mode": {
    "name": "ipython",
    "version": 3
   },
   "file_extension": ".py",
   "mimetype": "text/x-python",
   "name": "python",
   "nbconvert_exporter": "python",
   "pygments_lexer": "ipython3",
   "version": "3.6.2"
  }
 },
 "nbformat": 4,
 "nbformat_minor": 2
}
