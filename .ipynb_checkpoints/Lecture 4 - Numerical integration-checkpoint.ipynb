{
 "cells": [
  {
   "cell_type": "markdown",
   "metadata": {},
   "source": [
    "## Midpoint rule"
   ]
  },
  {
   "cell_type": "markdown",
   "metadata": {},
   "source": [
    "Goal: write a function that uses the midpoint rule and computes an approximation of the integral of a given function between given points"
   ]
  },
  {
   "cell_type": "markdown",
   "metadata": {},
   "source": [
    "The function must take 4 inputs:  \n",
    "* the function we want to integrate  \n",
    "* the two limit points of the integral  \n",
    "* the number of subdivision of the interval\n",
    "\n",
    "The function must return the value of the approximate integral"
   ]
  },
  {
   "cell_type": "markdown",
   "metadata": {},
   "source": [
    "Remember the logic of the algorithm:  \n",
    "* the initial interval is divided into subintervals of equal length\n",
    "\n",
    "* for each subinterval, we take a rectangle with width = the subinterval, height = the value of the function at the midpoint of the subinterval  \n",
    "* compute the area of such rectangles and add them together"
   ]
  },
  {
   "cell_type": "code",
   "execution_count": null,
   "metadata": {},
   "outputs": [],
   "source": [
    "def integral_midpoint(f,a,b,n):\n",
    "    '''\n",
    "    Input: a function f, the limits a,b of an interval where the function is defined, an integer n\n",
    "    Output: approximate the integral of f from a to b using the midpoint method with n subdivisions\n",
    "    '''\n",
    "    integral = 0\n",
    "    h = (b-a)/n\n",
    "    x = a+h/2\n",
    "    for i in range(n):\n",
    "        integral += h*f(x)\n",
    "        x += h\n",
    "    return integral"
   ]
  },
  {
   "cell_type": "markdown",
   "metadata": {},
   "source": [
    "### How to check that your function is correct?"
   ]
  },
  {
   "cell_type": "markdown",
   "metadata": {},
   "source": [
    "You need to test it, therefore you may want to write one (or better, a few) functions of which you know the integral on a given range. Since you know their integral, you can check that your function returns the expected result."
   ]
  },
  {
   "cell_type": "markdown",
   "metadata": {},
   "source": [
    "e.g. $f(x)=x$, $f(x)=x^2-2$, etc"
   ]
  },
  {
   "cell_type": "code",
   "execution_count": null,
   "metadata": {},
   "outputs": [],
   "source": [
    "def test1(x):\n",
    "    return x"
   ]
  },
  {
   "cell_type": "code",
   "execution_count": null,
   "metadata": {},
   "outputs": [],
   "source": [
    "def test2(x):\n",
    "    return x**2-2"
   ]
  },
  {
   "cell_type": "markdown",
   "metadata": {},
   "source": [
    "## Trapezium rule"
   ]
  },
  {
   "cell_type": "markdown",
   "metadata": {},
   "source": [
    "This function should do exactly the same, except we don't construct rectangles, but trapezia that have as vertices two consecutive points of the subdivision $(x_i,0)$ and $(x_{i+1},0)$, and their corresponding point on the graph of the function $(x_i,f(x_i))$ and $(x_{i+1},f(x_{i+1}))$"
   ]
  },
  {
   "cell_type": "code",
   "execution_count": null,
   "metadata": {},
   "outputs": [],
   "source": [
    "def integral_trapezium(f,a,b,n):\n",
    "    '''\n",
    "    Input: a function f, the limits a,b of an interval where the function is defined, an integer n\n",
    "    Output: approximate the integral of f from a to b using the trapezium method with n subdivisions\n",
    "    '''\n",
    "    integral = 0\n",
    "    h = (b-a)/n\n",
    "    x = a\n",
    "    for i in range(n):\n",
    "        integral += (f(x)+f(x+h))*h/2\n",
    "        x += h\n",
    "    return integral"
   ]
  }
 ],
 "metadata": {
  "kernelspec": {
   "display_name": "Python 3",
   "language": "python",
   "name": "python3"
  },
  "language_info": {
   "codemirror_mode": {
    "name": "ipython",
    "version": 3
   },
   "file_extension": ".py",
   "mimetype": "text/x-python",
   "name": "python",
   "nbconvert_exporter": "python",
   "pygments_lexer": "ipython3",
   "version": "3.6.2"
  }
 },
 "nbformat": 4,
 "nbformat_minor": 2
}
