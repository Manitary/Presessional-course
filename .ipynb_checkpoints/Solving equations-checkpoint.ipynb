{
 "cells": [
  {
   "cell_type": "markdown",
   "metadata": {},
   "source": [
    "## Bisection method"
   ]
  },
  {
   "cell_type": "markdown",
   "metadata": {},
   "source": [
    "Goal: write a function that performs the bisection method to find a zero of a given function."
   ]
  },
  {
   "cell_type": "markdown",
   "metadata": {},
   "source": [
    "The function must take 5 inputs:  \n",
    "* the function we want to find a zero of  \n",
    "* the two starting points of the algorithm  \n",
    "* the precision we want on the x and on the y\n",
    "\n",
    "The function must return the approximate solution and the number of iteration needed to obtain it."
   ]
  },
  {
   "cell_type": "markdown",
   "metadata": {},
   "source": [
    "Remember the logic of the algorithm:  \n",
    "* the value of the function at the two opposing points must have opposit sign  \n",
    "* at each step, take the midpoint of the current interval  \n",
    "* decide which of the two previous limits needs to be replaced by the midpoint  \n",
    "* stop the loop when the precision conditions are reached (you can choose whether to want _both_ or _either_ to be satisfied)"
   ]
  },
  {
   "cell_type": "markdown",
   "metadata": {},
   "source": [
    "General observations:  \n",
    "* you may want to write some functions to test your code (of course you need to know what are the zeros of those functions!)  \n",
    "* remember to keep track of the number of iterations you are doing, as it is a required output  \n",
    "* you can return more than one object simply by separating them with a comma: ``return variable1, variable2``  \n",
    "* you don't know how many times you need to iterate, and you don't have a set to iterate on (no ``range()`` here!), so you may not want to use a ``for`` loop"
   ]
  },
  {
   "cell_type": "code",
   "execution_count": null,
   "metadata": {},
   "outputs": [],
   "source": []
  },
  {
   "cell_type": "markdown",
   "metadata": {},
   "source": [
    "## Newton method"
   ]
  },
  {
   "cell_type": "markdown",
   "metadata": {},
   "source": [
    "Goal: write a function that performs the Newton method to find a zero of a given function.\n",
    "\n",
    "The function must take 5 inputs:  \n",
    "* the function we want to find a zero of, and its derivative  \n",
    "* the starting point of the algorithm  \n",
    "* the precision we want on the x and on the y\n",
    "\n",
    "The function must return the approximate solution and the number of iteration needed to obtain it."
   ]
  },
  {
   "cell_type": "markdown",
   "metadata": {},
   "source": [
    "Remember the logic of the algorithm:  \n",
    "* the derivative at the current point must not be 0  \n",
    "* at each step, find the next point using the formula $$x_{k+1}=x_k-\\frac{f(x_k)}{f'(x_k)}$$\n",
    "* stop the loop when the precision conditions are reached (you can choose whether to want _both_ or _either_ to be satisfied)"
   ]
  },
  {
   "cell_type": "markdown",
   "metadata": {},
   "source": [
    "The same observation as for the bisection method apply."
   ]
  },
  {
   "cell_type": "markdown",
   "metadata": {},
   "source": [
    "## Secant method"
   ]
  },
  {
   "cell_type": "markdown",
   "metadata": {},
   "source": [
    "This is almost the same as the Newton method, with the following differences:  \n",
    "* we need two starting points instead of one  \n",
    "* the derivative is unknown, therefore it is not one of the inputs  \n",
    "* in particular, you need to keep track of the two previous points, not just the previous one -- you need two points to draw a secant line that approximates the tangent i.e. the derivative"
   ]
  }
 ],
 "metadata": {
  "kernelspec": {
   "display_name": "Python 3",
   "language": "python",
   "name": "python3"
  },
  "language_info": {
   "codemirror_mode": {
    "name": "ipython",
    "version": 3
   },
   "file_extension": ".py",
   "mimetype": "text/x-python",
   "name": "python",
   "nbconvert_exporter": "python",
   "pygments_lexer": "ipython3",
   "version": "3.6.2"
  }
 },
 "nbformat": 4,
 "nbformat_minor": 2
}
