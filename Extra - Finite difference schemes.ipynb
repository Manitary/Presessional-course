{
 "cells": [
  {
   "cell_type": "markdown",
   "metadata": {},
   "source": [
    "## An example of how to construct a scheme to solve a PDE"
   ]
  },
  {
   "cell_type": "markdown",
   "metadata": {},
   "source": [
    "### Part 1"
   ]
  },
  {
   "cell_type": "markdown",
   "metadata": {},
   "source": [
    "Write an (explicit) FTCS finite difference scheme to solve the partial differential equation\n",
    "\n",
    "$$\\frac{\\partial u}{\\partial t}=\\epsilon\\frac{\\partial u}{\\partial x}+\\kappa\\frac{\\partial^2u}{\\partial x^2},\\qquad 0\\le x\\le 1,\\quad t>0,\\quad \\kappa>0,$$\n",
    "\n",
    "with initial conditions $u(x,0)=f(x)$ and boundary conditions $u(0,t)=g_0(t)$ and $u(1,t)=g_1(t)$, where $f(x),g_0(t),g_1(t)$ are given functions."
   ]
  },
  {
   "cell_type": "markdown",
   "metadata": {},
   "source": [
    "### Answer"
   ]
  },
  {
   "cell_type": "markdown",
   "metadata": {},
   "source": [
    "As usual, use $u_j^n$ to denote $u(x_j,t^n)$. Since it is _forward_ time and _centred_ space, write:\n",
    "\t\\begin{align}\n",
    "\t\t\\label{ut}\\frac{\\partial u}{\\partial t}&=\\frac{u_j^{n+1}-u_j^n}{\\delta}+\\mathcal{O}(\\delta),\\\\\n",
    "\t\t\\label{ux}\\frac{\\partial u}{\\partial x}&=\\frac{u_{j+1}^n-u_{j-1}^n}{2h}+\\mathcal{O}(h^2),\\\\\n",
    "\t\t\\label{uxx}\\frac{\\partial^2u}{\\partial x^2}&=\\frac{u_{j+1}^n+u_{j-1}^n-2u_j^n}{h^2}+\\mathcal{O}(h^2).\n",
    "\t\\end{align}\n",
    "\tRearranging terms, we obtain the following scheme:\n",
    "\t\\begin{equation}\n",
    "\t\tu_j^{n+1}=\\biggl(\\frac{\\delta\\epsilon}{2h}+\\frac{\\delta\\kappa}{h^2}\\biggr)u_{j+1}^n+\\biggl(1-\\frac{2\\delta\\kappa}{h^2}\\biggr)u_j^n+\\biggl(\\frac{\\delta\\kappa}{h^2}-\\frac{\\delta\\epsilon}{2h}\\biggr)u_{j-1}^n,\n",
    "\t\\end{equation}\n",
    "\twhere $1\\le j\\le N$, $N=1/h$ (so that $x_0=0$ and $x_{N+1}=1$), $t^n=\\delta n$, the initial conditions are $u_j^0=f(x_j)$ for $0\\le j\\le N+1$, and the boundary conditions are $u_0^n=g_0(t^n)$ and $u_{N+1}^n=g_1(t^n)$."
   ]
  },
  {
   "cell_type": "markdown",
   "metadata": {},
   "source": [
    "### Part 2"
   ]
  },
  {
   "cell_type": "markdown",
   "metadata": {},
   "source": [
    "Implement your FTCS method above. Use the explicit initial-boundary conditions\n",
    "\n",
    "$$f(x)=x(1-x),\\qquad g_0(t)=0,\\qquad g_1(t)=0.$$\n",
    "\n",
    "To be precise, write a Python function that takes as input  \n",
    "* the number of timesteps ``N`` the algorithm will take,  \n",
    "* the space discretization step ``h``,  \n",
    "* the time discretization step ``delta``,  \n",
    "* the diffusion parameter ``kappa``,  \n",
    "* the advection parameter ``epsilon``,    \n",
    "and returns the coordinates ``x`` of the spatial grid, and the solution ``u`` at all timesteps computed. Additional helper functions may be implemented if helpful. All functions should be clearly documented."
   ]
  },
  {
   "cell_type": "markdown",
   "metadata": {},
   "source": [
    "### Answer"
   ]
  },
  {
   "cell_type": "code",
   "execution_count": null,
   "metadata": {},
   "outputs": [],
   "source": [
    "import numpy\n",
    "\n",
    "def FTCS(N, h, delta, kappa, epsilon):\n",
    "    \"\"\"\n",
    "    Implement the FTCS algorithm for the equation\n",
    "    u_t=epsilon*u_x+kappa*u_xx for x in [0,1]\n",
    "    with initial condition u(x,0)=x(1-x)\n",
    "    and boundary conditions u(0,t)=u(1,t)=0\n",
    "    N = number of timesteps, h = space discretization step\n",
    "    delta = time discretization step, kappa must be >0\n",
    "    \"\"\"\n",
    "    #Get the x coordinates for the given discretization step\n",
    "    x = numpy.linspace(0.0, 1.0, 1.0/h+1)\n",
    "    #Initialize the mesh\n",
    "    u = numpy.zeros((N+1,len(x)))\n",
    "    #Initial condition\n",
    "    u[0, :] = x*(1-x)\n",
    "    for n in range(N):\n",
    "        #boundary conditions\n",
    "        u[n+1, 0] = 0\n",
    "        u[n+1, -1] = 0\n",
    "        for i in range(1, len(x)-1):\n",
    "            #for points not on the boundary, use the FTCS scheme\n",
    "            u[n+1, i] = u[n, i+1] * ((delta * kappa) / (h**2) + (delta * epsilon) / (2 * h)) + u[n, i] * (1 - (2 * delta * kappa / (h**2))) + u[n, i-1] * ((delta * kappa) / (h**2) - (delta * epsilon) / (2 * h))\n",
    "    return x, u"
   ]
  },
  {
   "cell_type": "markdown",
   "metadata": {},
   "source": [
    "### Part 3"
   ]
  },
  {
   "cell_type": "markdown",
   "metadata": {},
   "source": [
    "Fix $\\kappa=\\epsilon h/2$.\n",
    "\n",
    "Plot your results:  \n",
    "* at the 100th timestep when $h=10^{-2}, \\delta=10^{-3},\\epsilon=2,\\kappa=10^{-2}$;  \n",
    "* at the 10th timestep when you set $\\delta=h=10^{-2}$ but keep the other parameters the same.  \n",
    "\n",
    "How would you interpret your results?"
   ]
  },
  {
   "cell_type": "markdown",
   "metadata": {},
   "source": [
    "### Answer"
   ]
  },
  {
   "cell_type": "code",
   "execution_count": null,
   "metadata": {},
   "outputs": [],
   "source": [
    "from matplotlib import pyplot\n",
    "\n",
    "coord1,values1 = FTCS(100,0.01,0.001,0.01,2)\n",
    "coord2,values2 = FTCS(10,0.01,0.01,0.01,2)\n",
    "\n",
    "pyplot.plot(coord1,values1[100],'r-')\n",
    "pyplot.xlabel('$x$')\n",
    "pyplot.ylabel('$u(x,100)$')\n",
    "pyplot.show()\n",
    "\n",
    "pyplot.plot(coord2,values2[10],'b-')\n",
    "pyplot.xlabel('$x$')\n",
    "pyplot.ylabel('$u(x,10)$')\n",
    "pyplot.show()"
   ]
  },
  {
   "cell_type": "markdown",
   "metadata": {},
   "source": [
    "Notice that the scheme we are using in the second case is\n",
    "\n",
    "$$u_j^{n+1}=2u_{j+1}^n-u_j^n,$$\n",
    "\n",
    "in which the factor 2 gives the exponential behaviour we observe."
   ]
  },
  {
   "cell_type": "markdown",
   "metadata": {},
   "source": [
    "#### Remark"
   ]
  },
  {
   "cell_type": "markdown",
   "metadata": {},
   "source": [
    "The last question has a more detailed explanation that I cannot cover in detail as we did not go into some technical aspects of schemes."
   ]
  },
  {
   "cell_type": "markdown",
   "metadata": {},
   "source": [
    "For those who are interested and want to study a bit more this topic, the idea is that the algorithm is consistent therefore if it is convergent then it is also stable (Lax's theorem). By using the condition $\\kappa=\\epsilon h/2$, the scheme becomes\n",
    "\n",
    "$$u_j^{n+1}=ru_{j+1}^n+(1-r)u_j^n,$$\n",
    "\n",
    "where $r=\\delta\\epsilon/h$. One can show that this scheme is convergent (hence stable) only when $r<1$, i.e. $\\delta<h/\\epsilon$.\n",
    "\n",
    "In the previous question, in the first case the condition is satisfied, while in the second case it is not, hence the different behaviour."
   ]
  }
 ],
 "metadata": {
  "kernelspec": {
   "display_name": "Python 3",
   "language": "python",
   "name": "python3"
  },
  "language_info": {
   "codemirror_mode": {
    "name": "ipython",
    "version": 3
   },
   "file_extension": ".py",
   "mimetype": "text/x-python",
   "name": "python",
   "nbconvert_exporter": "python",
   "pygments_lexer": "ipython3",
   "version": "3.6.2"
  }
 },
 "nbformat": 4,
 "nbformat_minor": 2
}
